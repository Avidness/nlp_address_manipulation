{
 "cells": [
  {
   "cell_type": "code",
   "execution_count": 1,
   "id": "3129af89-e5f9-4fce-bc91-affdce604072",
   "metadata": {},
   "outputs": [],
   "source": [
    "from pathlib import Path\n",
    "import sys\n",
    "import os\n",
    "import pandas as pd\n",
    "\n",
    "# import common utils\n",
    "project_root = os.path.abspath(os.path.join(os.getcwd(), \"..\"))\n",
    "utils_path = os.path.join(project_root, 'src', 'utils')\n",
    "sys.path.insert(0, utils_path)\n",
    "import common\n",
    "import localLLM"
   ]
  },
  {
   "cell_type": "code",
   "execution_count": 6,
   "id": "fde5621c-c973-4942-b260-94767faafbc2",
   "metadata": {},
   "outputs": [],
   "source": [
    "# load data\n",
    "data_dir = Path().resolve().parent / 'data'\n",
    "df = pd.read_csv(data_dir / 'addr_clean.csv')\n",
    "df = df.dropna(subset=['address'])"
   ]
  },
  {
   "cell_type": "code",
   "execution_count": 7,
   "id": "b9827f39-7283-4513-a57a-31c3162ccd20",
   "metadata": {},
   "outputs": [],
   "source": [
    "df['address'] = df['address'].apply(common.add_missing_spaces)\n",
    "\n",
    "word_dict = localLLM.df_to_dictionary(df, 'address', 13)\n",
    "print(word_dict)"
   ]
  },
  {
   "cell_type": "code",
   "execution_count": null,
   "id": "1fef7188-698e-4d39-9e2e-546469fff70e",
   "metadata": {},
   "outputs": [],
   "source": []
  }
 ],
 "metadata": {
  "kernelspec": {
   "display_name": "NLP Address Environment",
   "language": "python",
   "name": "nlp_addrs"
  },
  "language_info": {
   "codemirror_mode": {
    "name": "ipython",
    "version": 3
   },
   "file_extension": ".py",
   "mimetype": "text/x-python",
   "name": "python",
   "nbconvert_exporter": "python",
   "pygments_lexer": "ipython3",
   "version": "3.11.9"
  }
 },
 "nbformat": 4,
 "nbformat_minor": 5
}
